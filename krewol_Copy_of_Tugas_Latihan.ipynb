{
  "nbformat": 4,
  "nbformat_minor": 0,
  "metadata": {
    "colab": {
      "provenance": [],
      "include_colab_link": true
    },
    "kernelspec": {
      "name": "python3",
      "display_name": "Python 3"
    },
    "language_info": {
      "name": "python"
    }
  },
  "cells": [
    {
      "cell_type": "markdown",
      "metadata": {
        "id": "view-in-github",
        "colab_type": "text"
      },
      "source": [
        "<a href=\"https://colab.research.google.com/github/ksatriobagusprabowo/mau-pintar/blob/main/krewol_Copy_of_Tugas_Latihan.ipynb\" target=\"_parent\"><img src=\"https://colab.research.google.com/assets/colab-badge.svg\" alt=\"Open In Colab\"/></a>"
      ]
    },
    {
      "cell_type": "markdown",
      "source": [
        "Sebuah start-up GoPay merupakan perusahaan vintage yang menjadi alat pembayaran aplikasi marketplace dan lainnya. Anda seorang programmer yang ditugaskan untuk membuat aplikasi GoPay yang memiliki sebuah class bernama AkunGopay, yang memiliki atribut no_hp, nama dan saldo, dimana semua atribut bersifat private, demi keamanan.\n",
        "\n",
        "\n",
        "Pengguna bisa mendaftar akun GoPay dengan no_hp dan nama saja, namun juga bisa mendaftar dengan no_hp, nama dan saldo. Jika mendaftar dengan no_hp dan nama saja maka saldo otomatis bernilai 0.\n",
        "\n",
        "\n",
        "Class AkunGopay harus menyediakan fungsi yang dapat diakses oleh Marketplace untuk melakukan transaksi, yaitu :\n",
        "\n",
        "1.   topUp(), yang digunakan untuk menambahkan saldo\n",
        "2.   bayarTransaksi(), yang mengurangi saldo ketika melakukan transaksi\n",
        "3.   getSaldo(), untuk mengetahui jumlah saldo\n",
        "\n",
        "\n",
        "\n",
        "Teman Anda adalah seorang programer yang bekerja di sebuah start-up terkemuka Tokopedia yang bekerjasama dengan start-up keuangan GoPay. Anda ditugaskan membuat apikasi yang memiliki class AkunToped, dan memiliki atribut nama dan nomer_hp.\n",
        "\n",
        "Class AkunToped harus menyediakan fungsi yang untuk melakukan transaksi, yaitu:\n",
        "\n",
        "1. transaksi(), yang digunakan untuk mengurangi saldo Gopay dengan paramater nominal transaksi.\n",
        "2. getSaldo(), untuk mengetahui jumlah saldo Gopay.\n",
        "\n"
      ],
      "metadata": {
        "id": "NOQKwrfHB4pv"
      }
    },
    {
      "cell_type": "code",
      "execution_count": 1,
      "metadata": {
        "id": "peDTMz-5kxlh"
      },
      "outputs": [],
      "source": [
        "#Desain Class\n",
        "class Akun_Gopay:\n",
        "    def __init__(self, no_hp, nama, saldo=0):\n",
        "        self.__no_hp = no_hp\n",
        "        self.__nama = nama\n",
        "        self.__saldo = saldo\n",
        "\n",
        "    def topUp(self, jumlah):\n",
        "        if jumlah > 0:\n",
        "            self.__saldo += jumlah\n",
        "        else:\n",
        "            print(\"Jumlah top-up harus lebih dari 0.\")\n",
        "\n",
        "    def bayarTransaksi(self, jumlah):\n",
        "        if jumlah <= self.__saldo:\n",
        "            self.__saldo -= jumlah\n",
        "        else:\n",
        "            print(\"Saldo tidak mencukupi untuk melakukan transaksi.\")\n",
        "\n",
        "    def getSaldo(self):\n",
        "        return self.__saldo\n",
        "\n",
        "class Akun_Toped:\n",
        "    def __init__(self, nama, nomor_hp):\n",
        "        self.__nama = nama\n",
        "        self.__nomor_hp = nomor_hp\n",
        "\n",
        "    def transaksi(self, akun_gopay, jumlah):\n",
        "        if jumlah > 0:\n",
        "            akun_gopay.bayarTransaksi(jumlah)\n",
        "        else:\n",
        "            print(\"Jumlah transaksi harus lebih dari 0.\")\n",
        "\n",
        "    def getSaldo(self, akun_gopay):\n",
        "        return akun_gopay.getSaldo()\n",
        ""
      ]
    },
    {
      "cell_type": "code",
      "source": [
        "#Desain Class\n",
        "# Membuat akun GoPay\n",
        "akun_gopay = Akun_Gopay(\"13221243\", \"ilham\")\n",
        "\n",
        "# Mendaftar akun Tokopedia\n",
        "akun_toped = Akun_Toped(\"Rio\", \"546844343\")\n",
        "\n",
        "# Menampilkan saldo awal Akun GoPay\n",
        "print(f\"Saldo awal Akun GoPay: {akun_gopay.getSaldo()}\")\n",
        "\n",
        "# Melakukan top-up ke Akun GoPay\n",
        "akun_gopay.topUp(1200000)\n",
        "print(f\"Saldo setelah top-up: {akun_gopay.getSaldo()}\")\n",
        "\n",
        "# Melakukan transaksi dengan Akun Tokopedia\n",
        "jumlah_transaksi = 50000\n",
        "akun_toped.transaksi(akun_gopay, jumlah_transaksi)\n",
        "print(f\"Saldo Akun GoPay setelah transaksi: {akun_gopay.getSaldo()}\")\n",
        "\n",
        "# Menampilkan saldo Akun Tokopedia\n",
        "print(f\"Saldo Akun Tokopedia: {akun_toped.getSaldo(akun_gopay)}\")\n",
        ""
      ],
      "metadata": {
        "id": "eitzekkYkycQ",
        "colab": {
          "base_uri": "https://localhost:8080/"
        },
        "outputId": "ba5d9849-bb98-4d51-d6c3-9e9a4d4cd02e"
      },
      "execution_count": 2,
      "outputs": [
        {
          "output_type": "stream",
          "name": "stdout",
          "text": [
            "Saldo awal Akun GoPay: 0\n",
            "Saldo setelah top-up: 1200000\n",
            "Saldo Akun GoPay setelah transaksi: 1150000\n",
            "Saldo Akun Tokopedia: 1150000\n"
          ]
        }
      ]
    }
  ]
}