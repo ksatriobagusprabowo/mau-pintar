{
  "nbformat": 4,
  "nbformat_minor": 0,
  "metadata": {
    "colab": {
      "provenance": [],
      "include_colab_link": true
    },
    "kernelspec": {
      "name": "python3",
      "display_name": "Python 3"
    },
    "language_info": {
      "name": "python"
    }
  },
  "cells": [
    {
      "cell_type": "markdown",
      "metadata": {
        "id": "view-in-github",
        "colab_type": "text"
      },
      "source": [
        "<a href=\"https://colab.research.google.com/github/ksatriobagusprabowo/mau-pintar/blob/main/ksatriobagus_Copy_of_TugasOverriding2.ipynb\" target=\"_parent\"><img src=\"https://colab.research.google.com/assets/colab-badge.svg\" alt=\"Open In Colab\"/></a>"
      ]
    },
    {
      "cell_type": "markdown",
      "source": [
        "Anda bekerja sebagai programmer di sebuah supermarket besar. Manajemen supermarket ingin Anda mengembangkan program Python untuk mengelola berbagai jenis produk yang mereka jual di toko mereka. Mereka memiliki kelas dasar **Produk** dengan atribut berikut:\n",
        "\n",
        "*   kode_barang (kode unik produk)\n",
        "*   nama (nama produk)\n",
        "*   harga (harga produk)\n",
        "\n",
        "Selain itu, mereka memiliki dua jenis produk spesifik: **ProdukMakanan** dan **ProdukElektronik**. Produk makanan memiliki atribut tambahan:\n",
        "\n",
        "*   tanggal_kadaluarsa (tanggal kadaluarsa makanan)\n",
        "\n",
        "Sementara Produk elektronik memiliki atribut tambahan:\n",
        "\n",
        "*   garansi (lama garansi dalam bulan)\n",
        "\n",
        "Manajemen supermarket ingin Anda membuat program Python yang memungkinkan mereka untuk mencetak informasi tentang setiap produk, termasuk kode barang, nama, harga, serta atribut tambahan yang sesuai (tanggal kadaluarsa atau lama garansi).\n",
        "\n",
        "Tugas Anda adalah:\n",
        "\n",
        "\n",
        "1.   Membuat kelas Produk dengan atribut kode_barang, nama, dan harga, serta metode deskripsi yang mencetak informasi tentang produk tersebut.\n",
        "2.   Membuat kelas ProdukMakanan yang mewarisi dari kelas Produk dan memiliki atribut tambahan tanggal_kadaluarsa, serta mengimplementasikan metode deskripsi untuk mencetak informasi tentang produk makanan.\n",
        "1.   Membuat kelas ProdukElektronik yang juga mewarisi dari kelas Produk dan memiliki atribut tambahan garansi, serta mengimplementasikan metode deskripsi untuk mencetak informasi tentang produk elektronik.\n",
        "\n",
        "Program Anda harus mendemonstrasikan penggunaan konsep **overriding** dalam Python dalam konteks produk di supermarket.\n",
        "\n",
        "Selamat mengerjakan!\n",
        "\n",
        "\n",
        "\n",
        "\n",
        "\n"
      ],
      "metadata": {
        "id": "Yo0ulCyP2WPG"
      }
    },
    {
      "cell_type": "code",
      "execution_count": null,
      "metadata": {
        "id": "tG1-g1OW2KSu"
      },
      "outputs": [],
      "source": [
        "class Produk:\n",
        " def __init__(self, kode_barang, nama, harga):\n",
        "        self.kode_barang = kode_barang\n",
        "        self.nama = nama\n",
        "        self.harga = harga\n",
        " def deskripsi(self):\n",
        "        print(f\"Kode Barang: {self.kode_barang}\")\n",
        "        print(f\"Nama: {self.nama}\")\n",
        "        print(f\"Harga: {self.harga}\")"
      ]
    },
    {
      "cell_type": "code",
      "source": [
        "class ProdukMakanan(produk):\n",
        " def __init__(self, kode_barang, nama, harga, tanggal_kadaluarsa):\n",
        "        super().__init__(kode_barang, nama, harga)\n",
        "        self.tanggal_kadaluarsa = tanggal_kadaluarsa\n",
        " def deskripsi(self):\n",
        "        super().deskripsi()\n",
        "        print(f\"Tanggal Kadaluarsa: {self.tanggal_kadaluarsa}\")"
      ],
      "metadata": {
        "id": "oy32Lm4m39l0"
      },
      "execution_count": null,
      "outputs": []
    },
    {
      "cell_type": "code",
      "source": [
        "class ProdukElektronik(produk):\n",
        " def __init__(self, kode_barang, nama, harga, garansi):\n",
        "        super().__init__(kode_barang, nama, harga)\n",
        "        self.garansi = garansi\n",
        "\n",
        " def deskripsi(self):\n",
        "        super().deskripsi()\n",
        "        print(f\"Lama Garansi: {self.garansi} bulan\")"
      ],
      "metadata": {
        "id": "wEgEGwxm4A1y"
      },
      "execution_count": null,
      "outputs": []
    },
    {
      "cell_type": "code",
      "source": [
        "# Nama Lengkap : KSATRIO BAGUS PRABOWO\n",
        "# Kelas : XI RPL 2\n",
        "# Contoh penggunaan masing-masing jenis class produk\n",
        "# produk makanan di sini\n",
        "produk1 = ProdukMakanan(\"F001\", \"kedelai\", 10000, \"2023-12-31\")\n",
        "# produk elektronik di sini\n",
        "produk2 = ProdukElektronik(\"E001\", \"laptop\", 3000000, 12)\n",
        "# Deskripsi produk makanan\n",
        "print(\"Deskripsi Produk Makanan:\")\n",
        "# lengkapi\n",
        "produk1.deskripsi()\n",
        "# Deskripsi produk elektronik\n",
        "print(\"\\nDeskripsi Produk Elektronik:\")\n",
        "# lengkapi\n",
        "produk2.deskripsi()\n"
      ],
      "metadata": {
        "id": "noeSP_dw4F4c"
      },
      "execution_count": null,
      "outputs": []
    }
  ]
}