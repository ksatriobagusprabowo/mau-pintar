{
  "nbformat": 4,
  "nbformat_minor": 0,
  "metadata": {
    "colab": {
      "provenance": [],
      "include_colab_link": true
    },
    "kernelspec": {
      "name": "python3",
      "display_name": "Python 3"
    },
    "language_info": {
      "name": "python"
    }
  },
  "cells": [
    {
      "cell_type": "markdown",
      "metadata": {
        "id": "view-in-github",
        "colab_type": "text"
      },
      "source": [
        "<a href=\"https://colab.research.google.com/github/ksatriobagusprabowo/mau-pintar/blob/main/Copy_of_Tugas_Manipulasi_String.ipynb\" target=\"_parent\"><img src=\"https://colab.research.google.com/assets/colab-badge.svg\" alt=\"Open In Colab\"/></a>"
      ]
    },
    {
      "cell_type": "markdown",
      "source": [
        "buatlah class Catatan dengan atribut\n",
        "1. nama (string)\n",
        "2. nomor_absen (intejer)\n",
        "3. catatan (string)\n",
        "\n",
        "buat fungsi untuk\n",
        "1. menggabungkan semua atribut diatas menjadi sebuah kalimat menggunakan pertambahan string\n",
        "2. menampilkan kalimat gabungan semua atribut\n",
        "3. mencari kata dalam sebuah kalimat menggunakan fungsi in\n",
        "4. menggandakan jumlah kalimat menggunakan tanda perkalian *\n",
        "5. menghitung jumlah huruf dalam kalimat menggunakan len\n",
        "6. mencari kata pertama dalam kalimat menggunakan startswith"
      ],
      "metadata": {
        "id": "AIkziXKoHrlK"
      }
    },
    {
      "cell_type": "code",
      "source": [
        "#desain class\n",
        "class Catatan:\n",
        "  def __init__(self, nama, nomor_absen, catatan):\n",
        "    self.nama = nama\n",
        "    self.nomor_absen = nomor_absen\n",
        "    self.catatan = catatan\n",
        "\n",
        "  def gabung(self):\n",
        "    return f\"{self.nama} {self.nomor_absen} {self.catatan}\"\n",
        "\n",
        "  def tampil(self):\n",
        "    print(self.gabung())\n",
        "\n",
        "  def cari(self, kata):\n",
        "    return kata in self.gabung()\n",
        "\n",
        "  def duplikasi(self, jumlah):\n",
        "    return self.gabung() * jumlah\n",
        "\n",
        "  def jumlah(self):\n",
        "    return len(self.gabung())\n",
        "\n",
        "  def kataawal(self, kata):\n",
        "    return self.gabung().startswith(kata)"
      ],
      "metadata": {
        "id": "_YQuLGp_IA93"
      },
      "execution_count": 1,
      "outputs": []
    },
    {
      "cell_type": "code",
      "source": [
        "#main program\n",
        "catatan_siswa = Catatan(\"Ksatrio\", 2, \"Tahun Sekolah Di SMKN 9 MALANG.\")\n",
        "catatan_siswa.gabung()\n",
        "\n",
        "kata_yang_dicari = \"Di SMKN\"\n",
        "if catatan_siswa.cari(kata_yang_dicari):\n",
        "    print(f\"\\nKata '{kata_yang_dicari}' ditemukan dalam catatan.\")\n",
        "else:\n",
        "    print(f\"\\nKata '{kata_yang_dicari}' tidak ditemukan dalam catatan.\")\n",
        "\n",
        "jumlah_kali_gandakan = 2\n",
        "kalimat_gandakan = catatan_siswa.duplikasi(jumlah_kali_gandakan)\n",
        "print(f\"\\nGandakan catatan {jumlah_kali_gandakan} kali: {kalimat_gandakan}\")\n",
        "\n",
        "jumlah_huruf = catatan_siswa.jumlah()\n",
        "print(f\"\\nJumlah huruf dalam catatan: {jumlah_huruf} huruf\")\n",
        "\n",
        "kata_pertama = \"Azhar\"\n",
        "if catatan_siswa.kataawal(kata_pertama):\n",
        "    print(f\"\\nKata pertama dalam catatan adalah '{kata_pertama}'.\")\n",
        "else:\n",
        "    print(f\"\\nKata pertama dalam catatan bukan '{kata_pertama}'.\")"
      ],
      "metadata": {
        "id": "QdIPVcTJID9Q",
        "colab": {
          "base_uri": "https://localhost:8080/"
        },
        "outputId": "3db9ccbb-8fc3-4633-98b8-e79454eb4386"
      },
      "execution_count": 4,
      "outputs": [
        {
          "output_type": "stream",
          "name": "stdout",
          "text": [
            "\n",
            "Kata 'Di SMKN' ditemukan dalam catatan.\n",
            "\n",
            "Gandakan catatan 2 kali: Ksatrio 2 Tahun Sekolah Di SMKN 9 MALANG.Ksatrio 2 Tahun Sekolah Di SMKN 9 MALANG.\n",
            "\n",
            "Jumlah huruf dalam catatan: 41 huruf\n",
            "\n",
            "Kata pertama dalam catatan bukan 'Azhar'.\n"
          ]
        }
      ]
    }
  ]
}