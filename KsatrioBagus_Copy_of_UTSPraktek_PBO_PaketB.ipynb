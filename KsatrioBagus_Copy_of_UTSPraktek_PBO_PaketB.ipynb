{
  "nbformat": 4,
  "nbformat_minor": 0,
  "metadata": {
    "colab": {
      "provenance": [],
      "include_colab_link": true
    },
    "kernelspec": {
      "name": "python3",
      "display_name": "Python 3"
    },
    "language_info": {
      "name": "python"
    }
  },
  "cells": [
    {
      "cell_type": "markdown",
      "metadata": {
        "id": "view-in-github",
        "colab_type": "text"
      },
      "source": [
        "<a href=\"https://colab.research.google.com/github/ksatriobagusprabowo/mau-pintar/blob/main/KsatrioBagus_Copy_of_UTSPraktek_PBO_PaketB.ipynb\" target=\"_parent\"><img src=\"https://colab.research.google.com/assets/colab-badge.svg\" alt=\"Open In Colab\"/></a>"
      ]
    },
    {
      "cell_type": "markdown",
      "source": [
        "**Sistem Manajemen Pasien Rumah Sakit**\n",
        "\n",
        "Anda adalah seorang pengembang perangkat lunak yang bekerja untuk rumah sakit. Rumah sakit ini memiliki kelas induk Pasien dengan atribut berikut:\n",
        "*   nomer rekam medis\n",
        "*   nama\n",
        "*   umur\n",
        "*   jenis kelamin\n",
        "\n",
        "Selain itu, rumah sakit ini memiliki dua jenis pasian yaitu rawat inap dan rawat jalan.\n",
        "\n",
        "Pasien rawat inap memiliki atribut tambahan nomor kamar (contoh nomer kamar bebas)\n",
        "\n",
        "Sementara pasien rawat jalan memiliki atribut tambahan frekuensi kunjungan (harian, pekanan, dsb)\n",
        "\n",
        "Manajemen rumah sakit ingin Anda membuat program Python yang memungkinkan mereka untuk mencetak informasi tentang setiap pasien, termasuk nomer rekam medis, nama, umur, jenis kelamin, serta atribut tambahan yang sesuai (nomer kamar dan frekuensi kunungan).\n",
        "\n",
        "Buatlah program yang terdiri dari class-class yang dibutuhkan dan program utama yang digunakan untuk menjalankan class-class yang telah dibuat.\n",
        "\n",
        "Selamat mengerjakan!"
      ],
      "metadata": {
        "id": "xNiqvOwe07Hh"
      }
    },
    {
      "cell_type": "code",
      "execution_count": 3,
      "metadata": {
        "id": "7mpdReMA0z6H"
      },
      "outputs": [],
      "source": [
        "class pasien:\n",
        " def __init__(self, nomer_rekam_medis, nama, umur, jenis_kelamin):\n",
        "     self.nomer_rekam_medis = nomer_rekam_medis\n",
        "     self.nama = nama\n",
        "     self.umur = umur\n",
        "     self.jenis_kelamin = jenis_kelamin"
      ]
    },
    {
      "cell_type": "code",
      "source": [
        "class pasienrawatinap(pasien):\n",
        "    def __init__(self, nomer_rekam_medis, nama, umur, jenis_kelamin, nomer_kamar):\n",
        "        super().__init__(nomer_rekam_medis, nama, umur, jenis_kelamin)\n",
        "        self.nomer_kamar = nomer_kamar"
      ],
      "metadata": {
        "id": "tuongXEV2zlx"
      },
      "execution_count": 4,
      "outputs": []
    },
    {
      "cell_type": "code",
      "source": [
        "class pasienrawatjalan(pasien):\n",
        " def __init__(self, nomer_rekam_medis, nama, umur, jenis_kelamin, frekuensi_kunjungan):\n",
        "        super().__init__(nomer_rekam_medis, nama, umur, jenis_kelamin)\n",
        "        self.frekuensi_kunjungan = frekuensi_kunjungan\n",
        " def info_pasien(self):\n",
        "        print(f\"Nomer Rekam Medis: {self.nomer_rekam_medis}\")\n",
        "        print(f\"Nama: {self.nama}\")\n",
        "        print(f\"Umur: {self.umur} tahun\")\n",
        "        print(f\"Jenis Kelamin: {self.jenis_kelamin}\")\n",
        "        print(f\"Frekuensi Kunjungan: {self.frekuensi_kunjungan}\")"
      ],
      "metadata": {
        "id": "E45LQTxC20qY"
      },
      "execution_count": 5,
      "outputs": []
    },
    {
      "cell_type": "code",
      "source": [
        "# Program Utama\n",
        "if __name__ == \"__main__\":\n",
        "   pasien1 = Pasien_Rawat_Inap(\"85932\", \"sangkuriang\", 70, \"Laki-Laki\", \"Pekanan\")\n",
        "   pasien2 = Pasien_Rawat_Jalan(\"90971\", \"megawati\", 20, \"Laki-laki\", \"Harian\")\n",
        "\n",
        "  print(\"Informasi_Pasien_Rawat_Inap:\")\n",
        "   pasien1.cetak_info_pasien()\n",
        "\n",
        "  print(\"Informasi_Pasien_Rawat_Jalan:\")\n",
        "   pasien2.cetak_info_pasien()"
      ],
      "metadata": {
        "id": "eA5Vo5a1211e",
        "colab": {
          "base_uri": "https://localhost:8080/",
          "height": 141
        },
        "outputId": "eabfdb91-a641-4a08-adc8-275f73b7d2c5"
      },
      "execution_count": 19,
      "outputs": [
        {
          "output_type": "error",
          "ename": "IndentationError",
          "evalue": "ignored",
          "traceback": [
            "\u001b[0;36m  File \u001b[0;32m\"<tokenize>\"\u001b[0;36m, line \u001b[0;32m6\u001b[0m\n\u001b[0;31m    print(\"Informasi_Pasien_Rawat_Inap:\")\u001b[0m\n\u001b[0m    ^\u001b[0m\n\u001b[0;31mIndentationError\u001b[0m\u001b[0;31m:\u001b[0m unindent does not match any outer indentation level\n"
          ]
        }
      ]
    },
    {
      "cell_type": "markdown",
      "source": [
        "## Penjelasan\n",
        "Class pasien adalah class induk dengan atribut nomer rekam media, nama, umur, dan jenis kelamin. Fungsi cetak_info_pasien dalam kelas ini mencetak informasi umum tentang pasien.\n",
        "\n",
        "Class pasien rawat inap mewarisi dari class pasien dan memiliki atribut tambahan nomer kamar. Fungsi cetak_info_pasien dalam class ini memanggil fungsi informasi dari class pasien dan mencetak informasi tambahan tentang pasien rawat inap, yaitu nomer kamar\n",
        "\n",
        "Class pasien rawat jalan juga mewarisi dari class pasien dan memiliki atribut tambahan frekuensi kunjungan. Fungsi informasi dalam class ini juga memanggil fungsi  deskripsi dari class induk dan mencetak informasi tambahan tentang pasien rawat jalan, yaitu frekuensi kunjungan"
      ],
      "metadata": {
        "id": "f3ISiDJB24Ve"
      }
    }
  ]
}